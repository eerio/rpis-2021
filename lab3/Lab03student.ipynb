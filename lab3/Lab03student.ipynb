{
 "cells": [
  {
   "cell_type": "markdown",
   "metadata": {},
   "source": [
    "# Mean and standard deviation"
   ]
  },
  {
   "cell_type": "markdown",
   "metadata": {},
   "source": [
    "**Problem 3a.** In this problem we look at the mean and the standard deviation from a more statistical point of view.\n",
    " * Generate $N=1\\,000$ values $x_1,\\ldots,x_n$ from Poisson($\\lambda$) distribution for $\\lambda=10$. You might want to use the function **poisson(lambda,shape)** from package **numpy.random**.\n",
    " * Plot a histogram of these values. What is the mean of Poisson($\\lambda$)? What is the standard deviation? Are these values a good description of what you see in the histogram?\n",
    " * For $i \\in \\{1,\\ldots,n\\}$ compute $\\bar{x}_i = \\frac{x_1+\\ldots+x_i}{i}$. Plot the values of $\\bar{x}_i$.\n",
    " * On the same figure, plot a horizontal line corresponding to the expected value ($\\lambda$) of all those averages.\n",
    " * Compute (analitically) the standard deviation $\\sigma_i$ of the $i$-th average and plot lines $\\lambda \\pm \\sigma_i$, again on the same figure.\n",
    " * Does the standard deviation accurately describe the *typical* deviations?"
   ]
  },
  {
   "cell_type": "code",
   "execution_count": 14,
   "metadata": {},
   "outputs": [
    {
     "data": {
      "text/plain": [
       "(array([  8.,  55., 142., 254., 235., 164., 108.,  24.,   8.,   2.]),\n",
       " array([ 2. ,  3.9,  5.8,  7.7,  9.6, 11.5, 13.4, 15.3, 17.2, 19.1, 21. ]),\n",
       " <BarContainer object of 10 artists>)"
      ]
     },
     "execution_count": 14,
     "metadata": {},
     "output_type": "execute_result"
    },
    {
     "data": {
      "image/png": "[encoded data removed]",
      "text/plain": [
       "<Figure size 432x288 with 1 Axes>"
      ]
     },
     "metadata": {
      "needs_background": "light"
     },
     "output_type": "display_data"
    }
   ],
   "source": [
    "import matplotlib.pyplot as plt\n",
    "import pandas as pd\n",
    "import numpy as np\n",
    "\n",
    "lam, n = 10, 1000\n",
    "x = np.random.poisson(lam=lam, size=n)\n",
    "plt.hist(x)\n",
    "\n",
    "# mean of Poisson(lam) = variance of Poisson(lam) = lam\n",
    "# so we espect majority of values to fall into the \n",
    "# 10 +- 3 bin and that's what we get in the histogram below"
   ]
  },
  {
   "cell_type": "code",
   "execution_count": 15,
   "metadata": {},
   "outputs": [
    {
     "data": {
      "text/plain": [
       "[<matplotlib.lines.Line2D at 0x7f2929c052e0>]"
      ]
     },
     "execution_count": 15,
     "metadata": {},
     "output_type": "execute_result"
    },
    {
     "data": {
      "image/png": "[encoded data removed]",
      "text/plain": [
       "<Figure size 432x288 with 1 Axes>"
      ]
     },
     "metadata": {
      "needs_background": "light"
     },
     "output_type": "display_data"
    }
   ],
   "source": [
    "xhat = [sum(x[: i]) / i for i in range(1, len(x))]\n",
    "plt.axhline(y=lam, color='r')\n",
    "plt.plot(xhat)"
   ]
  },
  {
   "cell_type": "markdown",
   "metadata": {},
   "source": [
    "**Problem 3b.** In this task we consider a discrete distribution *without a mean* and verify whether we can still estimate the location of its peak by simply computing averages. Consider a discrete variable $X$ with the following distribution: $P(X=k) = \\frac{1}{4|k|(|k|+1)}$ for $k \\neq 0$ and $P(X=0) = \\frac{1}{2}$. \n",
    " * Argue that these formulas indeed describe a discrete distribution.\n",
    " * Show that $X$ does not have a mean.\n",
    " * Plot the function $f(k) = P(X=k)$ for $k \\in [-10,10]$.\n",
    " * Write a function that samples from $X$'s distribution (imaginary bonus points if it is vectorized).\n",
    " * Generate $N=10\\,000$ values $x_1,\\ldots,x_n$ from the distribution.\n",
    " * For $i \\in \\{1,\\ldots,n\\}$ compute $\\bar{x}_i = \\frac{x_1+\\ldots+x_i}{i}$. \n",
    " * Plot the values of $\\bar{x}_i$. Does it look like the series converges? If it is not clear, you can compute several independent\n",
    "   $N$-means and plot a histogram, then increase $N$ significantly and see how it changes.\n",
    " * For $i \\in \\{1,\\ldots,n\\}$ compute $\\hat{x}_i = \\textrm{ median of }\\{x_1,\\ldots,x_i\\}$. \n",
    "   You do not need to do it in a clever way (like in ASD lab).\n",
    " * Plot the values of $\\hat{x}_i$. Does it look like the series converges? \n",
    " * A more interesting situation would be the one where you a given a distribution like $X+c$ for unknown $c$, and \n",
    "   want to figure out what $c$ is, i.e. find the center of the distribution. Both methods above attempt to\n",
    "   locate the center - which works better?"
   ]
  },
  {
   "cell_type": "code",
   "execution_count": 16,
   "metadata": {},
   "outputs": [
    {
     "data": {
      "text/plain": [
       "[<matplotlib.lines.Line2D at 0x7f2929b55f10>]"
      ]
     },
     "execution_count": 16,
     "metadata": {},
     "output_type": "execute_result"
    },
    {
     "data": {
      "image/png": "[encoded data removed]",
      "text/plain": [
       "<Figure size 432x288 with 1 Axes>"
      ]
     },
     "metadata": {
      "needs_background": "light"
     },
     "output_type": "display_data"
    }
   ],
   "source": [
    "def f(k: int):\n",
    "    if k == 0:\n",
    "        return 1 / 2\n",
    "    return 1 / (4 * abs(k) * (abs(k) + 1))\n",
    "\n",
    "plt.plot([f(k) for k in range(-10, 11)])\n"
   ]
  },
  {
   "cell_type": "markdown",
   "metadata": {},
   "source": [
    "**Problem 3c.** We are now going to investigate an intermediate case - a variable with a finite mean, but no variance. Consider a discrete variable $Y$ with the following distribution: $P(Y=k) = \\frac{1}{|k|(|k|+1)(|k|+2)}$ for $k \\neq 0$ and $P(Y=0) = \\frac{1}{2}$. \n",
    " * Argue that these formulas indeed describe a discrete distribution.\n",
    " * Show that $EY=0$, but $Y$ has no variation (i.e. the defining series is not absolutely convergent).\n",
    " * Plot the function $f(k) = P(Y=k)$ for $k \\in [-10,10]$.\n",
    " * Write a function that samples from $Y$'s distribution.\n",
    " * Generate $N=10\\,000$ values $y_1,\\ldots,y_n$ from the distribution.\n",
    " * For $i \\in \\{1,\\ldots,n\\}$ compute $\\bar{y}_i = \\frac{y_1+\\ldots+y_i}{i}$. \n",
    " * Plot the values of $\\bar{y}_i$. Does it look like the series converges?\n",
    " * For $i \\in \\{1,\\ldots,n\\}$ compute $\\hat{y}_i = \\textrm{ median of }\\{y_1,\\ldots,y_i\\}$.\n",
    " * Plot the values of $\\hat{y}_i$.\n",
    " * Discuss the results obtained."
   ]
  },
  {
   "cell_type": "markdown",
   "metadata": {},
   "source": [
    "### Argue that these formulas indeed describe a discrete distribution."
   ]
  },
  {
   "cell_type": "markdown",
   "metadata": {},
   "source": [
    "$\\sum_{k=-\\infty}^\\infty P(Y = k)$  \n",
    "Both sums below are convergent, so this step is valid  \n",
    "$= \\sum_{k=-\\infty}^{-1}\\frac{1}{-k(-k+1)(-k+2)} + \\frac{1}{2} + \\sum_{k=1}^{\\infty} \\frac{1}{k(k+1)(k+2)}$  \n",
    "$= \\sum_{k=1}^{\\infty}\\frac{1}{k(k+1)(k+2)} + \\frac{1}{2} + \\sum_{k=1}^{\\infty} \\frac{1}{k(k+1)(k+2)}$  \n",
    "$= \\frac{1}{2} + 2\\sum_{k=1}^{\\infty} \\frac{1}{k(k+1)(k+2)}$  \n",
    "Decomposing the summand to partial fractions:  \n",
    "$= \\frac{1}{2} + 2\\sum_{k=1}^{\\infty} \\big(\\frac{1/2}{k} + \\frac{-1}{k+1} + \\frac{1/2}{k+2}\\big)$  \n",
    "Let $a_k = \\frac{1}{k}$. Then:  \n",
    "$= \\frac{1}{2} + 2\\sum_{k=1}^{\\infty} \\big(\\frac{1}{2}a_{k} -a_{k+1} + \\frac{1}{2}a_{k+2}\\big)$  \n",
    "Let's count how many times each $a_i$ will be included in the sum:  \n",
    "$= \\frac{1}{2} + 2\\Big(\\frac{1}{2}a_1 -\\frac{1}{2}a_2 + \\sum_{k=3}^{\\infty} \\big(\\frac{1}{2} - 1 + \\frac{1}{2}\\big)\\Big)$  \n",
    "We proved this sum is telescopic, so:  \n",
    "$= \\frac{1}{2} + 2\\Big(\\frac{1}{2}a_1 -\\frac{1}{2}a_2 + \\sum_{k=3}^{\\infty} \\big(\\frac{1}{2} - 1 + \\frac{1}{2}\\big)\\Big)$  \n",
    "$= \\frac{1}{2} + \\big(a_1 - a_2 \\big)$  \n",
    "$= \\frac{1}{2} + \\frac{1}{1} - \\frac{1}{2}$  \n",
    "$=1$  \n",
    "So finally:  \n",
    "$\\sum_{k=-\\infty}^\\infty P(Y = k) = 1$  \n",
    "And obviously the set of integers $k=-\\infty .. \\infty$ is countable, so the distribution is indeed discrete.  \n",
    "  \n",
    "\n"
   ]
  },
  {
   "cell_type": "markdown",
   "metadata": {},
   "source": [
    "### Show that $EY=0$, but $Y$ has no variation (i.e. the defining series is not absolutely convergent)."
   ]
  },
  {
   "cell_type": "markdown",
   "metadata": {},
   "source": [
    "$EY = \\sum_{k=-\\infty}^\\infty kP(Y = k)$  \n",
    "Both sums below are convergent, so this step is valid  \n",
    "$= \\sum_{k=-\\infty}^{-1}\\frac{k}{-k(-k+1)(-k+2)} + 0 + \\sum_{k=1}^{\\infty} \\frac{k}{k(k+1)(k+2)}$  \n",
    "$= \\sum_{k=1}^{\\infty}\\frac{-1}{(k+1)(k+2)} + \\sum_{k=1}^{\\infty} \\frac{1}{(k+1)(k+2)}$  \n",
    "$=0$  \n",
    "Now variation:  \n",
    "$Var Y = E(Y-EY)^2$  \n",
    "Using $EY=0$:  \n",
    "$Var Y = E(Y^2)$  \n",
    "But $Y \\in \\Z$, so $Y^2 \\in \\Z_{\\geq 0}$, so:  \n",
    "$Var Y = \\sum_{k=0}^{\\infty}kP(Y^2=k)$  \n",
    "But $P(Y^2=k) = 0$ for $k$ not a perfect square, so:  \n",
    "$Var Y = \\sum_{k=0}^{\\infty}k^2P(Y^2=k^2)$  \n",
    "$Var Y = 0 * \\frac{1}{2} + \\sum_{k=1}^{\\infty}k^2 P(Y=\\pm k)$  \n",
    "$Var Y = \\sum_{k=1}^{\\infty}k^2 (P(Y=k) + P(Y=-k))$  \n",
    "$Var Y = \\sum_{k=1}^{\\infty}k^2 2 P(Y=k)$  \n",
    "$Var Y = \\sum_{k=1}^{\\infty}k^2 \\frac{2}{k(k+1)(k+2)}$  \n",
    "$Var Y = 2\\sum_{k=1}^{\\infty}\\frac{k}{(k+1)(k+2)}$  \n",
    "$Var Y > 2\\sum_{k=1}^{\\infty}\\frac{k}{(k)(k+2)}$  \n",
    "$Var Y > 2\\sum_{k=1}^{\\infty}\\frac{1}{k+2}$  \n",
    "$Var Y > 2\\sum_{k=1}^{\\infty}\\frac{1}{k}$  \n",
    "But here the right-hand side isn't convergent, so the variance doesn't exist"
   ]
  },
  {
   "cell_type": "markdown",
   "metadata": {},
   "source": [
    "### Plot the function $f(k) = P(Y=k)$ for $k \\in [-10,10]$."
   ]
  },
  {
   "cell_type": "code",
   "execution_count": 17,
   "metadata": {},
   "outputs": [
    {
     "data": {
      "text/plain": [
       "[<matplotlib.lines.Line2D at 0x7f2929b3aa00>]"
      ]
     },
     "execution_count": 17,
     "metadata": {},
     "output_type": "execute_result"
    },
    {
     "data": {
      "image/png": "[encoded data removed]",
      "text/plain": [
       "<Figure size 432x288 with 1 Axes>"
      ]
     },
     "metadata": {
      "needs_background": "light"
     },
     "output_type": "display_data"
    }
   ],
   "source": [
    "import numpy as np\n",
    "import matplotlib.pyplot as plt\n",
    "@np.vectorize\n",
    "def f(k: int) -> float:\n",
    "  if k == 0: return 0.5\n",
    "  k = abs(k)\n",
    "  return 1 / (k * (k + 1) * (k + 2))\n",
    "\n",
    "xs = list(range(-10, 11))\n",
    "ys = f(xs)\n",
    "plt.plot(xs, ys)"
   ]
  },
  {
   "cell_type": "markdown",
   "metadata": {},
   "source": [
    "### Write a function that samples from $Y$'s distribution."
   ]
  },
  {
   "cell_type": "code",
   "execution_count": 18,
   "metadata": {},
   "outputs": [],
   "source": [
    "from random import random\n",
    "def Y():\n",
    "  # first, draw the sign\n",
    "  sign = 1 if random() < 0.5 else -1\n",
    "  \n",
    "  # then draw the abs(Y)\n",
    "  # let X ~ U([0,1))\n",
    "  # P(Y = k) = P(X \\in [x_k, x_{k+1}))\n",
    "  # x_0 = 0, x_1 = 0.5\n",
    "  # for k >= 1: x_{k+1} - x_k = 2 / (k(k+1)(k+2))\n",
    "  # then x_\\infty = 1/2 + 2 \\sum_1^\\infty 1/(k(k+1)(k+2))\n",
    "  # = 1/2 + 2 * 1/4 = 1. correct! that's what we want\n",
    "  # we're just gonna draw X and then binsearch to find the correct k\n",
    "  \n",
    "  # for n>0: x_n = 1/2 + 2 \\sum_1^{n-1} 1/(k(k+1)(k+2))\n",
    "  # https://www.wolframalpha.com/input/?i=sum+1%2F%28k*%28k%2B1%29*%28k%2B2%29%29%2C+k%3D1+to+n-1\n",
    "  # for n=0: x_n = 0\n",
    "  # for n>0: x_n = 1/2 + 2 * (n^2+n-2) / (4n(n+1))\n",
    "\n",
    "  def x(n: int) -> float:\n",
    "    return 0 if n == 0 else 0.5 + 2 * (n * n + n - 2) / (4 * n * (n + 1))\n",
    "\n",
    "  rnd = random()\n",
    "\n",
    "  # set lower bound on k\n",
    "  l = 0\n",
    "  # find upper bound on k\n",
    "  r = 1\n",
    "  while x(r) < rnd:\n",
    "    r *= 2\n",
    "  \n",
    "  # binary search for k\n",
    "  # invariant: x(l) <= rnd <= x(r)\n",
    "  while l < r - 1:\n",
    "    mid = l + (r - l) // 2\n",
    "    \n",
    "    if x(mid) < rnd:\n",
    "      l = mid\n",
    "    else:\n",
    "      r = mid - 1\n",
    "    \n",
    "  # print(l, r)\n",
    "  assert l == r or l == r - 1\n",
    "  result = l\n",
    "  return sign * result"
   ]
  },
  {
   "cell_type": "markdown",
   "metadata": {},
   "source": [
    "### Generate $N=10\\,000$ values $y_1,\\ldots,y_n$ from the distribution."
   ]
  },
  {
   "cell_type": "code",
   "execution_count": 19,
   "metadata": {},
   "outputs": [],
   "source": [
    "N = 10000\n",
    "ys = [Y() for _ in range(N)]"
   ]
  },
  {
   "cell_type": "markdown",
   "metadata": {},
   "source": [
    "### For $i \\in \\{1,\\ldots,n\\}$ compute $\\bar{y}_i = \\frac{y_1+\\ldots+y_i}{i}$. "
   ]
  },
  {
   "cell_type": "code",
   "execution_count": 20,
   "metadata": {},
   "outputs": [],
   "source": [
    "ybars = [sum(ys[: i]) / i for i in range(1, N + 1)]"
   ]
  },
  {
   "cell_type": "markdown",
   "metadata": {},
   "source": [
    "### Plot the values of $\\bar{y}_i$. Does it look like the series converges?"
   ]
  },
  {
   "cell_type": "code",
   "execution_count": 21,
   "metadata": {},
   "outputs": [
    {
     "data": {
      "text/plain": [
       "[<matplotlib.lines.Line2D at 0x7f2929c9c5e0>]"
      ]
     },
     "execution_count": 21,
     "metadata": {},
     "output_type": "execute_result"
    },
    {
     "data": {
      "image/png": "[encoded data removed]",
      "text/plain": [
       "<Figure size 432x288 with 1 Axes>"
      ]
     },
     "metadata": {
      "needs_background": "light"
     },
     "output_type": "display_data"
    }
   ],
   "source": [
    "plt.plot(ybars)\n",
    "# seems convergent"
   ]
  },
  {
   "cell_type": "markdown",
   "metadata": {},
   "source": [
    "### For $i \\in \\{1,\\ldots,n\\}$ compute $\\hat{y}_i = \\textrm{ median of }\\{y_1,\\ldots,y_i\\}$."
   ]
  },
  {
   "cell_type": "code",
   "execution_count": 22,
   "metadata": {},
   "outputs": [],
   "source": [
    "yhats = [np.median(ys[: i]) for i in range(1, N + 1)]"
   ]
  },
  {
   "cell_type": "markdown",
   "metadata": {},
   "source": [
    "### Plot the values of $\\hat{y}_i$."
   ]
  },
  {
   "cell_type": "code",
   "execution_count": 23,
   "metadata": {},
   "outputs": [
    {
     "data": {
      "text/plain": [
       "[<matplotlib.lines.Line2D at 0x7f2928f2ad90>]"
      ]
     },
     "execution_count": 23,
     "metadata": {},
     "output_type": "execute_result"
    },
    {
     "data": {
      "image/png": "[encoded data removed]",
      "text/plain": [
       "<Figure size 432x288 with 1 Axes>"
      ]
     },
     "metadata": {
      "needs_background": "light"
     },
     "output_type": "display_data"
    }
   ],
   "source": [
    "plt.plot(yhats)"
   ]
  },
  {
   "cell_type": "markdown",
   "metadata": {},
   "source": [
    "### Discuss the results obtained."
   ]
  },
  {
   "cell_type": "markdown",
   "metadata": {},
   "source": [
    "We got approximately what we expected - median around 0, convergent partial averages, etc."
   ]
  }
 ],
 "metadata": {
  "kernelspec": {
   "display_name": "Python 3",
   "language": "python",
   "name": "python3"
  },
  "language_info": {
   "codemirror_mode": {
    "name": "ipython",
    "version": 3
   },
   "file_extension": ".py",
   "mimetype": "text/x-python",
   "name": "python",
   "nbconvert_exporter": "python",
   "pygments_lexer": "ipython3",
   "version": "3.8.10"
  }
 },
 "nbformat": 4,
 "nbformat_minor": 1
}
