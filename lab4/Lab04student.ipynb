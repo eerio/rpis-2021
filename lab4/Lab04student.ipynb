{
 "cells": [
  {
   "cell_type": "markdown",
   "metadata": {},
   "source": [
    "# Monte Carlo estimation"
   ]
  },
  {
   "cell_type": "markdown",
   "metadata": {},
   "source": [
    "**Problem 4a (Monte Carlo volume estimation).** In this problem our goal is to estimate the area of a unit disk. To this end, implement in Python a function that for a given $N$:\n",
    " * Uniformly samples $N$ points in a $[-1,1]\\times[-1,1]$ square.\n",
    " * For each sampled point checks whether or not it lies inside a unit disk, let $X$ be the number of points inside.\n",
    " * Returns the ratio $AX/N$ (where $A=4$ is the area of the square).\n",
    "\n",
    "Then:\n",
    " * Run your function $1000$ times for $N=1000$ and draw a histogram of the estimates.\n",
    " * What is the expected value $E(AX/N)$? What is the standard deviation?\n",
    " * Repeat the experiment, but this time sample from $[-10,10]\\times[-10,10]$. Again draw a histogram, and compute the moments. Discuss the results.\n",
    "\n",
    "**Remark:** Since we know how to compute the area of a unit disk, this exercise seems rather pointless. However, note that the exact same procedure can be used to estimate the $n$-dimensional volume of any body $S$ provided that:\n",
    " * We have a black-box that tells us whether or not a given point is in $S$.\n",
    " * We know $M$ such that $S \\subseteq [-M,M]^n$ (or more generally we know a set $T$ such that we can sample uniformly from $T$ and know the volume of $T$).\n",
    " * The ratio of the volume of $S$ to the volume of $[-M,M]^n$ (or $T$) is not too small."
   ]
  },
  {
   "cell_type": "code",
   "execution_count": 34,
   "metadata": {},
   "outputs": [
    {
     "name": "stdout",
     "output_type": "stream",
     "text": [
      "expected value: 3.1412520000000006 standard deviation: 0.05240962216997946\n"
     ]
    },
    {
     "data": {
      "image/png": "[encoded data removed]",
      "text/plain": [
       "<Figure size 432x288 with 1 Axes>"
      ]
     },
     "metadata": {
      "needs_background": "light"
     },
     "output_type": "display_data"
    }
   ],
   "source": [
    "import numpy as np\n",
    "\n",
    "A = 4\n",
    "def monte_carlo(N: int) -> float:\n",
    "  # draw N 2d-vectors from [-1, 1)\n",
    "  points = 2 * np.random.random_sample((N, 2)) - 1\n",
    "  is_in_unit_disk = points[:, 0] ** 2 + points[:, 1] ** 2 <= 1\n",
    "  return A * np.count_nonzero(is_in_unit_disk) / N\n",
    "\n",
    "results = [monte_carlo(1000) for _ in range(1000)]\n",
    "\n",
    "import matplotlib.pyplot as plt\n",
    "cnts, vals, _ = plt.hist(results)\n",
    "# E(AX/N) = 3.14\n",
    "expected_value = np.average(results)\n",
    "standard_deviation = np.std(results)\n",
    "print('expected value:', expected_value, 'standard deviation:', standard_deviation)"
   ]
  },
  {
   "cell_type": "code",
   "execution_count": 35,
   "metadata": {},
   "outputs": [
    {
     "name": "stdout",
     "output_type": "stream",
     "text": [
      "expected value: 314.102 standard deviation: 5.095817500656789\n"
     ]
    },
    {
     "data": {
      "image/png": "[encoded data removed]",
      "text/plain": [
       "<Figure size 432x288 with 1 Axes>"
      ]
     },
     "metadata": {
      "needs_background": "light"
     },
     "output_type": "display_data"
    }
   ],
   "source": [
    "import numpy as np\n",
    "\n",
    "def monte_carlo(N: int) -> float:\n",
    "  # draw N 2d-vectors from [-10, 10)\n",
    "  a = -10\n",
    "  b = -a\n",
    "  A = (2 * b) ** 2\n",
    "  points = (b - a) * np.random.random_sample((N, 2)) + a\n",
    "  is_in_unit_disk = (points[:, 0] ** 2 + points[:, 1] ** 2) ** 0.5 <= A ** 0.5 / 2\n",
    "  return A * np.count_nonzero(is_in_unit_disk) / N\n",
    "\n",
    "results = [monte_carlo(1000) for _ in range(1000)]\n",
    "\n",
    "import matplotlib.pyplot as plt\n",
    "cnts, vals, _ = plt.hist(results)\n",
    "expected_value = np.average(results)\n",
    "standard_deviation = np.std(results)\n",
    "print('expected value:', expected_value, 'standard deviation:', standard_deviation)"
   ]
  },
  {
   "cell_type": "code",
   "execution_count": 36,
   "metadata": {},
   "outputs": [],
   "source": [
    "# discuss: both times E(AX/N) approaches volume of the disk over volume of the square\n",
    "# standard deviation is pretty low in the first case, but this time\n",
    "# it's high due to relatively small number of samples"
   ]
  },
  {
   "cell_type": "markdown",
   "metadata": {},
   "source": [
    "**Problem 4b (Monte Carlo integration).** In this problem our goal is to compute the value of a definite integral using random sampling. Let $f:[-1,1]\\rightarrow\\mathbb{R}$ be defined as $f(x) = 2\\sqrt{1-x^2}$. Implement a Python function that for a given $N$:\n",
    " * Uniformly samples $N$ points $x_1,\\ldots,x_N$ in $[-1,1]$.\n",
    " * Computes an estimate of $\\int_{-1}^1 f(x)dx$ using $f(x_1),\\ldots,f(x_N)$. As a part of this task you need to find a *reasonable* way to do this and argue why it works (formal proof is not required).\n",
    "\n",
    "What is the variance and the standard deviation of your method? (This part is not required to pass the task, but please do try to figure it out!)\n",
    "\n",
    "How is this task related to the previous one? (As above)\n",
    "\n",
    "**Remark:** Again, the specific problem we are solving is really simple. But our method works for any function, in particular for functions $f:\\mathbb{R}^n \\rightarrow \\mathbb{R}$. When $n$ is large, the standard quadrature-based integration breaks, but Monte Carlo approach in general still works (depending on $f$ additional variance-reducing tricks might be necessary, we will see one in the next problem)."
   ]
  },
  {
   "cell_type": "markdown",
   "metadata": {},
   "source": [
    "**Problem 4c (Monte Carlo counting).** Consider the following problem: Given a DNF formula $\\phi$, compute the number of assignments satisfying $\\phi$. Doing this is #P hard, so efficient exact solutions are unlikely. But we can try finding a good estimate. Your task in this problem is to use an approach similar to the one in **Problem 4a** to find such an estimate. \n",
    "\n",
    "A DNF formula looks like this:\n",
    "$$ \\phi = (x_1 \\wedge \\neg x_3 \\wedge x_4) \\vee (\\neg x_1 \\wedge x_2)$$\n",
    "This particular formula can be encoded using Python lists as follows:\n",
    "$$ phi = [ [1,-3,4],[-1,2]]$$\n",
    "You are given a sample formula below. \n",
    " * Write a Python function that estimates the number of satisfying assignments for this formula using Monte Carlo sampling.\n",
    " * Using a histogram (or other methods) decide whether this is an efficient method."
   ]
  },
  {
   "cell_type": "code",
   "execution_count": 52,
   "metadata": {
    "collapsed": true
   },
   "outputs": [
    {
     "name": "stdout",
     "output_type": "stream",
     "text": [
      "result: 1.1154746141372166e+18\n"
     ]
    },
    {
     "data": {
      "image/png": "[encoded data removed]",
      "text/plain": [
       "<Figure size 432x288 with 1 Axes>"
      ]
     },
     "metadata": {
      "needs_background": "light"
     },
     "output_type": "display_data"
    }
   ],
   "source": [
    "#M = 4 # number of variables\n",
    "#phi = [ [1,-3,4], [-1,2] ]\n",
    "\n",
    "M = 64\n",
    "phi = [[55, 3, -50, -57, 2, 51, -5, -56, -45, 1], [28, -1, -26, 35, 42, -43, 45, -56, -11, 6], [-18, 43, 1, 64, -34, 28, 48, -13, 29, 49], [-21, 12, 7, -49, -25, -45, 8, -51, 5, -26], [6, -26, 27, 51, 2, 9, 49, 29, -42, -35], [-12, 4, -32, -60, 2, 56, 31, 58, -19, -46], [-10, -52, 25, -8, -56, -24, -51, 20, 36, 22], [-64, -26, -36, -14, 3, 42, -20, -59, 25, 33], [-31, -33, 40, -29, -12, -49, 28, 11, 7, 22], [-25, 23, -17, -61, 34, 32, 24, -52, -21, -26], [-48, -42, -43, -24, 14, 50, -64, 60, 7, -53], [-1, 2, -61, -24, -53, 34, -13, 36, -46, 3], [3, -52, 60, 39, 9, 59, 57, 32, 6, -7], [-17, -28, -58, 33, 16, -22, -13, 26, 18, -11], [47, -39, 46, 40, -18, 24, 6, -23, -64, -22], [-6, 60, 35, 1, 52, 18, -33, 43, 45, -11], [57, -34, -32, 16, -41, -25, 37, 40, 43, -5], [58, -51, -40, 42, 5, 27, -41, 20, 32, 30], [-48, -11, -15, -14, -27, 17, -33, 55, -64, -51], [-11, -8, 48, 57, 42, 64, 40, -45, 13, -25], [-40, -39, 46, -36, -51, -58, 14, 7, -18, -6], [31, 38, -11, -45, -14, -9, -63, 27, -35, -46], [40, 11, 28, -26, -25, -20, -41, 16, 61, -32], [-35, 6, -58, 30, 62, -36, -7, -37, 38, 51], [-13, 58, 1, 14, 52, 8, 45, -49, -21, 51], [10, -62, -39, -57, 15, -40, 56, -31, -47, 23], [37, 22, -21, 52, -5, -19, -7, 50, 34, 9], [18, 14, -31, 27, -2, 5, 3, 48, 63, -34], [-43, 39, -29, 34, 60, -10, -61, -49, -42, 57], [-32, -29, -16, 53, -38, 52, -36, -62, -5, 45], [-28, 25, -31, -41, -44, -37, 20, 48, 59, 24], [49, -59, -13, -56, -29, -2, -45, -62, -38, -26], [-33, -31, 53, 64, 15, 17, 12, 50, 46, -54], [56, 57, 22, 4, 46, 21, 49, 14, 43, -41], [-8, 18, -21, -15, -42, -64, 45, 14, 13, -33], [-32, 62, 2, 10, -49, -64, 15, -35, -20, -17], [54, -64, -20, 37, -5, -26, -41, -35, 32, -25], [60, 58, -23, -43, -2, 15, 10, 9, 59, -45], [9, 29, -17, 45, -53, 18, 19, 50, 42, -61], [54, -51, 9, -52, -40, -37, -18, -59, 48, 3], [-32, -17, 38, 12, -27, 45, 57, -51, 56, 4], [-12, 62, -17, -50, -32, -45, -56, 46, 19, -61], [51, -27, 56, 45, 59, -25, 3, -18, 60, -44], [-50, 5, -10, 12, -23, -41, 31, -59, -35, 30], [-5, 18, -4, -63, 22, -40, 10, -62, 61, -35], [1, -10, 31, -41, 56, -17, -61, 22, 46, -14], [-45, 32, 54, -48, -25, 10, 31, -63, 38, -17], [50, -46, 44, -57, -45, -1, -63, 15, 4, 12], [-39, -28, 49, -9, 53, 25, 47, -6, 24, -36], [-41, 59, 13, 15, 21, -20, -19, 2, -22, 37], [-31, 23, -57, -38, 30, 59, 28, 6, 53, 26], [-38, -62, 14, 26, 12, 46, 10, 35, -18, -43], [20, -10, -48, -62, -17, -27, 49, -11, 59, 7], [-43, -46, -14, -31, -62, 52, -10, 40, -63, 32], [15, -12, 43, -19, -34, -25, -14, 62, 50, 61], [24, -52, 32, 61, 18, -44, 49, 29, 55, -57], [-27, 25, 55, -57, 12, 9, -43, 29, 36, 18], [13, -27, 21, -24, -8, 39, -60, 34, -11, 54], [-51, -3, 12, 26, -9, -23, -18, 28, 24, 11], [-1, -10, 9, 35, -55, -30, 48, 53, -32, -24], [-59, -58, -30, -46, 17, 11, 3, -18, -1, -50], [-61, -52, 17, -4, -44, -56, 64, 37, -47, 46], [28, 59, -23, 29, -5, -41, 39, 57, 2, 34], [-54, 56, 5, -20, -6, 13, 49, 28, -42, 25]]\n",
    "N = 1000\n",
    "\n",
    "def evaluate(phi, x) -> bool:\n",
    "  if isinstance(phi, int):\n",
    "    assert phi != 0\n",
    "    assert abs(phi) <= M\n",
    "    return x[abs(phi) - 1] if phi > 0 else not x[abs(phi) - 1]\n",
    "  elif isinstance(phi, list) and phi and isinstance(phi[0], int):\n",
    "    return all(evaluate(t, x) for t in phi)\n",
    "  elif isinstance(phi, list) and phi and isinstance(phi[0], list):\n",
    "    return any(evaluate(t, x) for t in phi)\n",
    "  else:\n",
    "    raise Exception('bad')\n",
    "\n",
    "assert not evaluate([[1,-3,4], [-1,2]], [True, False, True, False])\n",
    "assert evaluate([[1,-3,4], [-1,2]], [True, False, False, True])\n",
    "assert evaluate([[1,-3,4], [-1,2]], [False, True, False, True])\n",
    "assert evaluate([[1,-3,4], [-1,2]], [True, True, False, True])\n",
    "assert not evaluate([[1,-3,4], [-1,2]], [True, False, False, False])\n",
    "\n",
    "def dnf_montecarlo():\n",
    "  X = sum(\n",
    "    evaluate(phi, np.random.random_sample(M) > 0.5)\n",
    "    for _ in range(N)\n",
    "  )\n",
    "  ratio = X / N\n",
    "  return ratio\n",
    "\n",
    "results = [dnf_montecarlo() * 2 ** 64 for _ in range(100)]\n",
    "plt.hist(results)\n",
    "\n",
    "print('result:', sum(results) / len(results))\n",
    "  \n"
   ]
  },
  {
   "cell_type": "markdown",
   "metadata": {},
   "source": [
    "**Problem 4d (Monte Carlo counting ctd).** In this problem we use a different distribution on assignments, to overcome the difficulties arising in **4c**. \n",
    " * How many assignments satisfy clause $C_i$?\n",
    " * How can we estimate the probability that a random assignment which satisfies $C_i$ does not satisfy any earlier clauses (i.e., $C_j$ for $j < i$)?\n",
    " * How can we estimate the number of assignments which satisfy $C_i$ but do not satisfy any earlier clauses?\n",
    " * How can we use the result of the previous question to construct an algorithm estimating the number of satisfying assignments?\n"
   ]
  },
  {
   "cell_type": "markdown",
   "metadata": {},
   "source": [
    "## How many assignments satisfy clause $C_i$?  \n"
   ]
  },
  {
   "cell_type": "code",
   "execution_count": 76,
   "metadata": {},
   "outputs": [],
   "source": [
    "from collections import Counter\n",
    "\n",
    "def n_Ci_satisfied(phi, M, i: int) -> int:\n",
    "  clause = phi[i]\n",
    "  counter = Counter(map(abs, clause))\n",
    "  for (var, cnt) in counter.items():\n",
    "    assert cnt > 0\n",
    "    if cnt != 1:\n",
    "      needed = [x for x in clause if abs(x) == var]\n",
    "      if not (all(x > 0 for x in needed) or all(x < 0 for x in needed)):\n",
    "        return 0\n",
    "  n_free_variables = M - len(set(abs(x) for x in clause))\n",
    "  return 2 ** n_free_variables\n",
    "\n",
    "assert n_Ci_satisfied([[1, -1], [1, 2]], 2, 1) == 1\n",
    "assert n_Ci_satisfied([[1, -1], [1, 1]], 2, 1) == 2\n",
    "assert n_Ci_satisfied([[1, -1], [1, 1]], 3, 1) == 4\n",
    "assert n_Ci_satisfied([[1, -1], [1, 1]], 100, 0) == 0"
   ]
  },
  {
   "cell_type": "markdown",
   "metadata": {},
   "source": [
    "## How can we estimate the probability that a random assignment which satisfies $C_i$ does not satisfy any earlier clauses (i.e., $C_j$ for $j < i$)?\n"
   ]
  },
  {
   "cell_type": "code",
   "execution_count": 77,
   "metadata": {},
   "outputs": [],
   "source": [
    "# get random vector for M variables which satisfies the true_clause\n",
    "def sample_vars_for(true_clause: list[int], M: int) -> list[int]:\n",
    "  vector = np.random.random_sample(M) > 0.5\n",
    "  for var in true_clause:\n",
    "    assert var != 0\n",
    "    vector[abs(var) - 1] = True if var >= 0 else False\n",
    "  return vector\n",
    "\n",
    "N = 10\n",
    "\n",
    "def ratio_Ci_first_satisfied(phi: list[list[int]], M: int, i: int):\n",
    "  assert isinstance(phi, list) and isinstance(phi[0], list)\n",
    "  if i == 0:\n",
    "    return 1\n",
    "\n",
    "  # assignment does not satisfy any earlier clauses iff\n",
    "  # it does not satisfy appriopriate prefix of C\n",
    "  X = sum(\n",
    "    1 - evaluate(phi[: i], sample_vars_for(phi[i], M))\n",
    "    for _ in range(N)\n",
    "  )\n",
    "  ratio = X / N\n",
    "  return ratio"
   ]
  },
  {
   "cell_type": "markdown",
   "metadata": {},
   "source": [
    "## How can we estimate the number of assignments which satisfy $C_i$ but do not satisfy any earlier clauses?\n"
   ]
  },
  {
   "cell_type": "code",
   "execution_count": 78,
   "metadata": {},
   "outputs": [],
   "source": [
    "def number_Ci_first_satisfied(phi, M, i: int) -> int:\n",
    "  return ratio_Ci_first_satisfied(phi, M, i) * n_Ci_satisfied(phi, M, i)"
   ]
  },
  {
   "cell_type": "markdown",
   "metadata": {},
   "source": [
    " * How can we use the result of the previous question to construct an algorithm estimating the number of satisfying assignments?"
   ]
  },
  {
   "cell_type": "code",
   "execution_count": 79,
   "metadata": {},
   "outputs": [],
   "source": [
    "# we can just sum these results for all valid i's, i.e. if an assignment\n",
    "# satisfies clause t, no clause before t and possibly some clause t', t' > t,\n",
    "# then we will not count it twice, because when then including a clause which\n",
    "# satisfies t', it's guaranteed that it does not satisfy any clause before it\n",
    "\n",
    "def number_of_valid_assignments(phi: list[list[int]], M: int) -> int:\n",
    "  return sum(number_Ci_first_satisfied(phi, M, i) for i in range(len(phi)))"
   ]
  },
  {
   "cell_type": "code",
   "execution_count": 81,
   "metadata": {},
   "outputs": [
    {
     "data": {
      "text/plain": [
       "(array([ 2.,  2.,  6., 10., 17., 16., 18., 18.,  6.,  5.]),\n",
       " array([1.09707687e+18, 1.10085989e+18, 1.10464292e+18, 1.10842594e+18,\n",
       "        1.11220896e+18, 1.11599199e+18, 1.11977501e+18, 1.12355804e+18,\n",
       "        1.12734106e+18, 1.13112408e+18, 1.13490711e+18]),\n",
       " <BarContainer object of 10 artists>)"
      ]
     },
     "execution_count": 81,
     "metadata": {},
     "output_type": "execute_result"
    },
    {
     "data": {
      "image/png": "[encoded data removed]",
      "text/plain": [
       "<Figure size 432x288 with 1 Axes>"
      ]
     },
     "metadata": {
      "needs_background": "light"
     },
     "output_type": "display_data"
    }
   ],
   "source": [
    "#M = 4 # number of variables\n",
    "#phi = [ [1,-3,4], [-1,2] ]\n",
    "\n",
    "M = 64\n",
    "phi = [[55, 3, -50, -57, 2, 51, -5, -56, -45, 1], [28, -1, -26, 35, 42, -43, 45, -56, -11, 6], [-18, 43, 1, 64, -34, 28, 48, -13, 29, 49], [-21, 12, 7, -49, -25, -45, 8, -51, 5, -26], [6, -26, 27, 51, 2, 9, 49, 29, -42, -35], [-12, 4, -32, -60, 2, 56, 31, 58, -19, -46], [-10, -52, 25, -8, -56, -24, -51, 20, 36, 22], [-64, -26, -36, -14, 3, 42, -20, -59, 25, 33], [-31, -33, 40, -29, -12, -49, 28, 11, 7, 22], [-25, 23, -17, -61, 34, 32, 24, -52, -21, -26], [-48, -42, -43, -24, 14, 50, -64, 60, 7, -53], [-1, 2, -61, -24, -53, 34, -13, 36, -46, 3], [3, -52, 60, 39, 9, 59, 57, 32, 6, -7], [-17, -28, -58, 33, 16, -22, -13, 26, 18, -11], [47, -39, 46, 40, -18, 24, 6, -23, -64, -22], [-6, 60, 35, 1, 52, 18, -33, 43, 45, -11], [57, -34, -32, 16, -41, -25, 37, 40, 43, -5], [58, -51, -40, 42, 5, 27, -41, 20, 32, 30], [-48, -11, -15, -14, -27, 17, -33, 55, -64, -51], [-11, -8, 48, 57, 42, 64, 40, -45, 13, -25], [-40, -39, 46, -36, -51, -58, 14, 7, -18, -6], [31, 38, -11, -45, -14, -9, -63, 27, -35, -46], [40, 11, 28, -26, -25, -20, -41, 16, 61, -32], [-35, 6, -58, 30, 62, -36, -7, -37, 38, 51], [-13, 58, 1, 14, 52, 8, 45, -49, -21, 51], [10, -62, -39, -57, 15, -40, 56, -31, -47, 23], [37, 22, -21, 52, -5, -19, -7, 50, 34, 9], [18, 14, -31, 27, -2, 5, 3, 48, 63, -34], [-43, 39, -29, 34, 60, -10, -61, -49, -42, 57], [-32, -29, -16, 53, -38, 52, -36, -62, -5, 45], [-28, 25, -31, -41, -44, -37, 20, 48, 59, 24], [49, -59, -13, -56, -29, -2, -45, -62, -38, -26], [-33, -31, 53, 64, 15, 17, 12, 50, 46, -54], [56, 57, 22, 4, 46, 21, 49, 14, 43, -41], [-8, 18, -21, -15, -42, -64, 45, 14, 13, -33], [-32, 62, 2, 10, -49, -64, 15, -35, -20, -17], [54, -64, -20, 37, -5, -26, -41, -35, 32, -25], [60, 58, -23, -43, -2, 15, 10, 9, 59, -45], [9, 29, -17, 45, -53, 18, 19, 50, 42, -61], [54, -51, 9, -52, -40, -37, -18, -59, 48, 3], [-32, -17, 38, 12, -27, 45, 57, -51, 56, 4], [-12, 62, -17, -50, -32, -45, -56, 46, 19, -61], [51, -27, 56, 45, 59, -25, 3, -18, 60, -44], [-50, 5, -10, 12, -23, -41, 31, -59, -35, 30], [-5, 18, -4, -63, 22, -40, 10, -62, 61, -35], [1, -10, 31, -41, 56, -17, -61, 22, 46, -14], [-45, 32, 54, -48, -25, 10, 31, -63, 38, -17], [50, -46, 44, -57, -45, -1, -63, 15, 4, 12], [-39, -28, 49, -9, 53, 25, 47, -6, 24, -36], [-41, 59, 13, 15, 21, -20, -19, 2, -22, 37], [-31, 23, -57, -38, 30, 59, 28, 6, 53, 26], [-38, -62, 14, 26, 12, 46, 10, 35, -18, -43], [20, -10, -48, -62, -17, -27, 49, -11, 59, 7], [-43, -46, -14, -31, -62, 52, -10, 40, -63, 32], [15, -12, 43, -19, -34, -25, -14, 62, 50, 61], [24, -52, 32, 61, 18, -44, 49, 29, 55, -57], [-27, 25, 55, -57, 12, 9, -43, 29, 36, 18], [13, -27, 21, -24, -8, 39, -60, 34, -11, 54], [-51, -3, 12, 26, -9, -23, -18, 28, 24, 11], [-1, -10, 9, 35, -55, -30, 48, 53, -32, -24], [-59, -58, -30, -46, 17, 11, 3, -18, -1, -50], [-61, -52, 17, -4, -44, -56, 64, 37, -47, 46], [28, 59, -23, 29, -5, -41, 39, 57, 2, 34], [-54, 56, 5, -20, -6, 13, 49, 28, -42, 25]]\n",
    "\n",
    "results = [number_of_valid_assignments(phi, M) for _ in range(100)]\n",
    "plt.hist(results)"
   ]
  },
  {
   "cell_type": "markdown",
   "metadata": {},
   "source": [
    "**Problem 4e (Monte Carlo counting ctd).** The esitimation method outlined in **4d** has several variants.\n",
    " * We could use the Monte carlo method for each clause $C_i$ separately, or we could also choose clause $C_i$ randomly in each sample.\n",
    " * We could sample more assignments from the clauses which have more satisfying assignments (in case if various clauses $C_i$ have different numbers of satisfying assignments).\n",
    " * Solution to Problem 4d suggests that each assignment satisfying $\\phi$ should be accounted only for the first clause it satisfies. Another possibility is to count the number of clauses it satisfies, $d$, and account it with weight $1/d$ for each of these clauses.\n",
    " \n",
    "There are 8 combinations. Which one of them it the most efficient (i.e., has the smallest variance for the given number of samples / computation time)? Guess the answer (preferably using theory) and verify your suspicions."
   ]
  }
 ],
 "metadata": {
  "kernelspec": {
   "display_name": "Python 3",
   "language": "python",
   "name": "python3"
  },
  "language_info": {
   "codemirror_mode": {
    "name": "ipython",
    "version": 3
   },
   "file_extension": ".py",
   "mimetype": "text/x-python",
   "name": "python",
   "nbconvert_exporter": "python",
   "pygments_lexer": "ipython3",
   "version": "3.9.2"
  }
 },
 "nbformat": 4,
 "nbformat_minor": 1
}
