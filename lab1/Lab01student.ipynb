{
 "cells": [
  {
   "cell_type": "markdown",
   "metadata": {},
   "source": [
    "# Birthday paradox"
   ]
  },
  {
   "cell_type": "markdown",
   "metadata": {},
   "source": [
    "**Problem 1a.** During exercise session, we showed that for $d$ equally likely dates in a year and $n$ people, the probability of a repeat date is $p(n)=1-\\frac{d^\\underline{n}}{d^n}$. We also derived a simple approximate formula for this probability: $p_a(n) = 1-e^{-\\frac{n(n-1)}{2d}}$. In particular, this approximation implies that for $d=365$ dates, $p(n)$ is close to $\\frac{1}{2}$ for $n=23$.\n",
    "\n",
    "Verify how good the approximation is. To this end, write a program that computes the exact value of $p(n)$ as well as the value of the approximation $p_a(n)$ for $d=365$ and $n=1,\\ldots,60$. Plot the graphs of the two functions."
   ]
  },
  {
   "cell_type": "code",
   "execution_count": 5,
   "metadata": {},
   "outputs": [
    {
     "data": {
      "text/plain": [
       "[<matplotlib.lines.Line2D at 0x7f772c5c1220>]"
      ]
     },
     "execution_count": 5,
     "metadata": {},
     "output_type": "execute_result"
    },
    {
     "data": {
      "image/png": "[encoded data removed]",
      "text/plain": [
       "<Figure size 432x288 with 1 Axes>"
      ]
     },
     "metadata": {
      "needs_background": "light"
     },
     "output_type": "display_data"
    }
   ],
   "source": [
    "import matplotlib.pyplot as plt\n",
    "import numpy as np\n",
    "import math\n",
    "\n",
    "d = 365\n",
    "@np.vectorize\n",
    "def p(n): return 1 - math.prod(d - i for i in range(n)) / (d ** n)\n",
    "@np.vectorize\n",
    "def pa(n): return 1 - math.exp(-n * (n - 1) / (2 * d))\n",
    "\n",
    "xs = np.arange(1, 60 + 1)\n",
    "\n",
    "plt.plot(xs, p(xs))\n",
    "plt.plot(xs, pa(xs))"
   ]
  },
  {
   "cell_type": "markdown",
   "metadata": {},
   "source": [
    "**Problem 1b.**\n",
    "Implement a function, that chooses random dates out of $1,\\ldots,d$ until a repeat occurs. The function should return the number of the step in which that happened. Run the function $N=100\\,000$ times. \n",
    "    * Plot a histogram of the return values.\n",
    "    * Which return value seems most likely? \n",
    "    * What is the average of the return values?\n",
    "    * Is there any simple relation between these two numbers and the value $23$ in the previous problem?\n",
    "    * Is there any simple relation between the histogram obtained, and the plot in the previous problem?"
   ]
  },
  {
   "cell_type": "code",
   "execution_count": 15,
   "metadata": {},
   "outputs": [],
   "source": [
    "import random\n",
    "d = 365\n",
    "\n",
    "def foo():\n",
    "    occured = set()\n",
    "    i = 0\n",
    "    while True:\n",
    "        num = random.randint(1, d)\n",
    "        i += 1\n",
    "        if num in occured:\n",
    "            return i\n",
    "        occured.add(num)\n",
    "\n",
    "N = 100000\n",
    "\n",
    "results = np.array([foo() for _ in range(N)])"
   ]
  },
  {
   "cell_type": "code",
   "execution_count": 18,
   "metadata": {},
   "outputs": [
    {
     "name": "stdout",
     "output_type": "stream",
     "text": [
      "most frequent = 21 occured: 3378\n",
      "mean = 24.63811\n"
     ]
    },
    {
     "data": {
      "image/png": "[encoded data removed]",
      "text/plain": [
       "<Figure size 432x288 with 1 Axes>"
      ]
     },
     "metadata": {
      "needs_background": "light"
     },
     "output_type": "display_data"
    }
   ],
   "source": [
    "plt.hist(results)\n",
    "\n",
    "# a) 23\n",
    "from collections import Counter\n",
    "val, cnt = Counter(results).most_common()[0]\n",
    "print('most frequent =', val, 'occured:', cnt)\n",
    "\n",
    "# b) 24.6\n",
    "mean = np.mean(results)\n",
    "print('mean =', mean)\n",
    "\n",
    "# c) 23 is expected value of n of throws"
   ]
  },
  {
   "cell_type": "markdown",
   "metadata": {},
   "source": [
    "**Problem 1c.** Here we investigate how our analysis using the classical approach compares to a more empirical one. The file *us_births_69_88.csv* contains the counts for birthdates from 1969 to 1988. Only those births, for which the full date is known, are included in the file.\n",
    "    * Read the file.\n",
    "    * Investigate the data. Do you notice anything strange?\n",
    "    * Plot a heatmap of the data. Do you notice any significant deviations from the uniform assumption? Can you explain them?\n",
    "    * Implement a sampling function as in 1b, but this time using the supplied data. Compare the results."
   ]
  },
  {
   "cell_type": "code",
   "execution_count": 40,
   "metadata": {},
   "outputs": [
    {
     "name": "stdout",
     "output_type": "stream",
     "text": [
      "number of births on February 30th: 98\n"
     ]
    },
    {
     "data": {
      "image/png": "[encoded data removed]",
      "text/plain": [
       "<Figure size 432x288 with 1 Axes>"
      ]
     },
     "metadata": {
      "needs_background": "light"
     },
     "output_type": "display_data"
    }
   ],
   "source": [
    "import numpy as np\n",
    "import pandas as pd\n",
    "from random import choices\n",
    "import matplotlib.pyplot as plt\n",
    "\n",
    "d = 365\n",
    "N = 100000\n",
    "\n",
    "df = pd.read_csv('us_births_69_88.csv')\n",
    "res = df['births']\n",
    "res.reset_index()\n",
    "\n",
    "def foo():\n",
    "    occured = set()\n",
    "    i = 0\n",
    "    while True:\n",
    "        num = choices(res.index, weights=res)[0]\n",
    "        i += 1\n",
    "        if num in occured:\n",
    "            return i\n",
    "        occured.add(num)\n",
    "    \n",
    "results = np.array([foo() for _ in range(N)])\n",
    "plt.hist(results)\n",
    "\n",
    "\n",
    "# df[df['month'] == 2]['births'].plot(x='day')\n",
    "\n",
    "t = df[(df['month'] == 2) & (df['day'] == 30)]['births'].iloc[0]\n",
    "print('number of births on February 30th:', t)\n",
    "\n",
    "# strange: invalid dates of birth cause ununiform distribution of births per day\n",
    "\n",
    "\n",
    "\n",
    "# res[0]"
   ]
  }
 ],
 "metadata": {
  "kernelspec": {
   "display_name": "Python 3",
   "language": "python",
   "name": "python3"
  },
  "language_info": {
   "codemirror_mode": {
    "name": "ipython",
    "version": 3
   },
   "file_extension": ".py",
   "mimetype": "text/x-python",
   "name": "python",
   "nbconvert_exporter": "python",
   "pygments_lexer": "ipython3",
   "version": "3.9.2"
  }
 },
 "nbformat": 4,
 "nbformat_minor": 0
}
